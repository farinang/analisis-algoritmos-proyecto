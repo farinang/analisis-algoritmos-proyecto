{
 "cells": [
  {
   "cell_type": "code",
   "execution_count": 11,
   "metadata": {},
   "outputs": [],
   "source": [
    "import pandas as pd"
   ]
  },
  {
   "cell_type": "code",
   "execution_count": 13,
   "metadata": {},
   "outputs": [],
   "source": [
    "df = pd.read_csv('horst_data_100.txt')"
   ]
  },
  {
   "cell_type": "code",
   "execution_count": 14,
   "metadata": {},
   "outputs": [
    {
     "data": {
      "text/html": [
       "<div>\n",
       "<style scoped>\n",
       "    .dataframe tbody tr th:only-of-type {\n",
       "        vertical-align: middle;\n",
       "    }\n",
       "\n",
       "    .dataframe tbody tr th {\n",
       "        vertical-align: top;\n",
       "    }\n",
       "\n",
       "    .dataframe thead th {\n",
       "        text-align: right;\n",
       "    }\n",
       "</style>\n",
       "<table border=\"1\" class=\"dataframe\">\n",
       "  <thead>\n",
       "    <tr style=\"text-align: right;\">\n",
       "      <th></th>\n",
       "      <th>TIME</th>\n",
       "      <th>MAC_SRC</th>\n",
       "      <th>SIGNAL</th>\n",
       "      <th>BSSID</th>\n",
       "    </tr>\n",
       "  </thead>\n",
       "  <tbody>\n",
       "    <tr>\n",
       "      <th>0</th>\n",
       "      <td>2024-09-03 10:09:49</td>\n",
       "      <td>0c:b5:27:e5:29:30</td>\n",
       "      <td>-56</td>\n",
       "      <td>08:7b:87:77:41:e0</td>\n",
       "    </tr>\n",
       "    <tr>\n",
       "      <th>1</th>\n",
       "      <td>2024-09-03 10:09:49</td>\n",
       "      <td>0c:b5:27:e5:29:30</td>\n",
       "      <td>-56</td>\n",
       "      <td>08:7b:87:77:41:e0</td>\n",
       "    </tr>\n",
       "    <tr>\n",
       "      <th>2</th>\n",
       "      <td>2024-09-03 10:09:49</td>\n",
       "      <td>0c:b5:27:e5:29:30</td>\n",
       "      <td>-56</td>\n",
       "      <td>08:7b:87:77:41:e0</td>\n",
       "    </tr>\n",
       "    <tr>\n",
       "      <th>3</th>\n",
       "      <td>2024-09-03 10:09:49</td>\n",
       "      <td>0c:b5:27:e5:29:30</td>\n",
       "      <td>-56</td>\n",
       "      <td>08:7b:87:77:41:e0</td>\n",
       "    </tr>\n",
       "    <tr>\n",
       "      <th>4</th>\n",
       "      <td>2024-09-03 10:09:49</td>\n",
       "      <td>0c:b5:27:e5:29:30</td>\n",
       "      <td>-56</td>\n",
       "      <td>08:7b:87:77:41:e0</td>\n",
       "    </tr>\n",
       "    <tr>\n",
       "      <th>...</th>\n",
       "      <td>...</td>\n",
       "      <td>...</td>\n",
       "      <td>...</td>\n",
       "      <td>...</td>\n",
       "    </tr>\n",
       "    <tr>\n",
       "      <th>995</th>\n",
       "      <td>2024-09-03 10:09:52</td>\n",
       "      <td>0c:b5:27:e5:29:30</td>\n",
       "      <td>-56</td>\n",
       "      <td>08:7b:87:77:41:e0</td>\n",
       "    </tr>\n",
       "    <tr>\n",
       "      <th>996</th>\n",
       "      <td>2024-09-03 10:09:52</td>\n",
       "      <td>0c:b5:27:e5:29:30</td>\n",
       "      <td>-56</td>\n",
       "      <td>08:7b:87:77:41:e0</td>\n",
       "    </tr>\n",
       "    <tr>\n",
       "      <th>997</th>\n",
       "      <td>2024-09-03 10:09:52</td>\n",
       "      <td>0c:b5:27:e5:29:30</td>\n",
       "      <td>-56</td>\n",
       "      <td>08:7b:87:77:41:e0</td>\n",
       "    </tr>\n",
       "    <tr>\n",
       "      <th>998</th>\n",
       "      <td>2024-09-03 10:09:52</td>\n",
       "      <td>0c:b5:27:e5:29:30</td>\n",
       "      <td>-56</td>\n",
       "      <td>08:7b:87:77:41:e0</td>\n",
       "    </tr>\n",
       "    <tr>\n",
       "      <th>999</th>\n",
       "      <td>2024-09-03 10:09:52</td>\n",
       "      <td>0c:b5:27:e5:29:30</td>\n",
       "      <td>-56</td>\n",
       "      <td>08:7b:87:77:41:e0</td>\n",
       "    </tr>\n",
       "  </tbody>\n",
       "</table>\n",
       "<p>1000 rows × 4 columns</p>\n",
       "</div>"
      ],
      "text/plain": [
       "                    TIME            MAC_SRC  SIGNAL              BSSID\n",
       "0    2024-09-03 10:09:49  0c:b5:27:e5:29:30     -56  08:7b:87:77:41:e0\n",
       "1    2024-09-03 10:09:49  0c:b5:27:e5:29:30     -56  08:7b:87:77:41:e0\n",
       "2    2024-09-03 10:09:49  0c:b5:27:e5:29:30     -56  08:7b:87:77:41:e0\n",
       "3    2024-09-03 10:09:49  0c:b5:27:e5:29:30     -56  08:7b:87:77:41:e0\n",
       "4    2024-09-03 10:09:49  0c:b5:27:e5:29:30     -56  08:7b:87:77:41:e0\n",
       "..                   ...                ...     ...                ...\n",
       "995  2024-09-03 10:09:52  0c:b5:27:e5:29:30     -56  08:7b:87:77:41:e0\n",
       "996  2024-09-03 10:09:52  0c:b5:27:e5:29:30     -56  08:7b:87:77:41:e0\n",
       "997  2024-09-03 10:09:52  0c:b5:27:e5:29:30     -56  08:7b:87:77:41:e0\n",
       "998  2024-09-03 10:09:52  0c:b5:27:e5:29:30     -56  08:7b:87:77:41:e0\n",
       "999  2024-09-03 10:09:52  0c:b5:27:e5:29:30     -56  08:7b:87:77:41:e0\n",
       "\n",
       "[1000 rows x 4 columns]"
      ]
     },
     "execution_count": 14,
     "metadata": {},
     "output_type": "execute_result"
    }
   ],
   "source": [
    "df"
   ]
  },
  {
   "cell_type": "markdown",
   "metadata": {},
   "source": [
    "# Crear data aumentada a través de los 100 datos reales"
   ]
  },
  {
   "cell_type": "code",
   "execution_count": 16,
   "metadata": {},
   "outputs": [],
   "source": [
    "df = pd.read_csv('horst_data_100.txt')\n",
    "\n",
    "df_1000 = pd.concat([df] * 10, ignore_index=True)\n",
    "df_5000 = pd.concat([df] * 50, ignore_index=True)\n",
    "df_10000 = pd.concat([df] * 100, ignore_index=True)\n",
    "df_50000 = pd.concat([df] * 500, ignore_index=True)\n",
    "df_100000 = pd.concat([df] * 1000, ignore_index=True)\n",
    "\n",
    "df_1000.to_csv('horst_data_1000.txt', index=False)\n",
    "df_5000.to_csv('horst_data_5000.txt', index=False)\n",
    "df_10000.to_csv('horst_data_10000.txt', index=False)\n",
    "df_50000.to_csv('horst_data_50000.txt', index=False)\n",
    "df_100000.to_csv('horst_data_100000.txt', index=False)"
   ]
  }
 ],
 "metadata": {
  "kernelspec": {
   "display_name": "machine_learning_entorno",
   "language": "python",
   "name": "python3"
  },
  "language_info": {
   "codemirror_mode": {
    "name": "ipython",
    "version": 3
   },
   "file_extension": ".py",
   "mimetype": "text/x-python",
   "name": "python",
   "nbconvert_exporter": "python",
   "pygments_lexer": "ipython3",
   "version": "3.11.0"
  }
 },
 "nbformat": 4,
 "nbformat_minor": 2
}
