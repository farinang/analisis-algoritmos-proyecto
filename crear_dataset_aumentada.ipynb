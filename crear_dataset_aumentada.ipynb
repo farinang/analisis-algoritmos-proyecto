{
 "cells": [
  {
   "cell_type": "code",
   "execution_count": 1,
   "metadata": {},
   "outputs": [],
   "source": [
    "import pandas as pd"
   ]
  },
  {
   "cell_type": "code",
   "execution_count": 2,
   "metadata": {},
   "outputs": [],
   "source": [
    "df = pd.read_csv('horst_data_1000.txt')"
   ]
  },
  {
   "cell_type": "markdown",
   "metadata": {},
   "source": [
    "# Crear data aumentada a través de los 1000 datos reales"
   ]
  },
  {
   "cell_type": "code",
   "execution_count": 3,
   "metadata": {},
   "outputs": [],
   "source": [
    "\n",
    "df_10000 = pd.concat([df] * 10, ignore_index=True)\n",
    "df_50000 = pd.concat([df] * 50, ignore_index=True)\n",
    "df_100000 = pd.concat([df] * 100, ignore_index=True)\n",
    "df_500000 = pd.concat([df] * 500, ignore_index=True)\n",
    "df_1000000 = pd.concat([df] * 1000, ignore_index=True)\n",
    "\n",
    "df_10000.to_csv('horst_data_10000.txt', index=False)\n",
    "df_50000.to_csv('horst_data_50000.txt', index=False)\n",
    "df_100000.to_csv('horst_data_100000.txt', index=False)\n",
    "df_500000.to_csv('horst_data_500000.txt', index=False)\n",
    "df_1000000.to_csv('horst_data_1000000.txt', index=False)"
   ]
  }
 ],
 "metadata": {
  "kernelspec": {
   "display_name": "machine_learning_entorno",
   "language": "python",
   "name": "python3"
  },
  "language_info": {
   "codemirror_mode": {
    "name": "ipython",
    "version": 3
   },
   "file_extension": ".py",
   "mimetype": "text/x-python",
   "name": "python",
   "nbconvert_exporter": "python",
   "pygments_lexer": "ipython3",
   "version": "3.11.0"
  }
 },
 "nbformat": 4,
 "nbformat_minor": 2
}
